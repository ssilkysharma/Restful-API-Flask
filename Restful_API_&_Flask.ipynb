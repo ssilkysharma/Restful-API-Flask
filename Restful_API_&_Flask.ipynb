{
  "nbformat": 4,
  "nbformat_minor": 0,
  "metadata": {
    "colab": {
      "provenance": []
    },
    "kernelspec": {
      "name": "python3",
      "display_name": "Python 3"
    },
    "language_info": {
      "name": "python"
    }
  },
  "cells": [
    {
      "cell_type": "markdown",
      "source": [
        "1.\tWhat is a RESTful API?\n",
        "Ans: RESTful API is an interface that two computer systems use to exchange information securely over the internet. Most business applications have to communicate with other internal and third-party applications to perform various tasks. For example, to generate monthly payslips, your internal accounts system has to share data with your customer's banking system to automate invoicing and communicate with an internal timesheet application. RESTful APIs support this information exchange because they follow secure, reliable, and efficient software communication standards.\n"
      ],
      "metadata": {
        "id": "tVaVTyDYXieX"
      }
    },
    {
      "cell_type": "markdown",
      "source": [
        "2.\tExplain the concept of API specification?\n",
        "Ans: An API specification provides a broad understanding of how an API behaves and how the API links with other APIs. It explains how the API functions and the results to expect when using the API. A good example of an API specification is the OpenAPI Specification.\n"
      ],
      "metadata": {
        "id": "wLd2QKtIXly4"
      }
    },
    {
      "cell_type": "markdown",
      "source": [
        "3.\tWhat is Flask, and why is it popular for building APIs?\n",
        "Ans: Flask is a lightweight and flexible web framework for Python. It's designed to make getting started with web development quick and easy, while still being powerful enough to build complex web applications. It is an API of Python that allows us to build web applications. It was developed by Armin Ronacher.\n"
      ],
      "metadata": {
        "id": "hzknmSqKXn2M"
      }
    },
    {
      "cell_type": "markdown",
      "source": [
        "4.\tWhat is routing in Flask?\n",
        "Ans: Routes in Flask are a fundamental concept in the web framework. routes can be described as the designated paths or endpoints in a web application that correspond to specific functions. These functions are responsible for processing requests and returning the appropriate responses. Routing means mapping the URLs to a specific function that will handle the logic for that URL. Modern web frameworks use more meaningful URLs to help users remember the URLs and make navigation simpler.\n"
      ],
      "metadata": {
        "id": "Thlmzd25Xp_T"
      }
    },
    {
      "cell_type": "markdown",
      "source": [
        "5.\tHow do you create a simple Flask application?\n",
        "Ans:Flask is a web application framework written in Python. Flask is based on the Werkzeug WSGI toolkit and Jinja2 template engine. Both are Pocco projects.\n",
        "To create a simple Flask application, follow these steps:\n",
        "a.\tInstall Flask\n",
        "b.\tCreate a Basic Flask App\n",
        "c.\tExplanation of Code:\n",
        "Flask(__name__): Initializes a Flask application.\n",
        "@app.route('/'): Defines a route for the root URL (/), and when someone accesses it, the hello_world() function is executed.\n",
        "hello_world(): A simple function that returns a string Hello, World!.\n",
        "app.run(debug=True): Runs the Flask development server and enables debug mode (helps with error messages and automatic server restarts).\n",
        "d.\tRun the Application\n"
      ],
      "metadata": {
        "id": "hJj3EkTfXtDq"
      }
    },
    {
      "cell_type": "markdown",
      "source": [
        "6.What are HTTP methods used in RESTful APIs?\n",
        " Ans: HTTP methods such as GET, POST, PUT, PATCH, and DELETE are used in RESTful API development to specify the type of action being performed on a resource. RESTful HTTP methods are an essential component of developing web APIs in the REST architectural style.\n"
      ],
      "metadata": {
        "id": "MK2Rr5wBX6OX"
      }
    },
    {
      "cell_type": "markdown",
      "source": [
        "7.What is the purpose of the @app.route() decorator in Flask?\n",
        "Ans: A common example of a Flask decorator is @app. route('/') , which defines routes. This decorator transforms a function into a route that can be accessed via a browser without explicitly calling the function in your code.\n"
      ],
      "metadata": {
        "id": "Cd3FKbpWX8FZ"
      }
    },
    {
      "cell_type": "markdown",
      "source": [
        "8.What is the difference between GET and POST HTTP methods?\n",
        "Ans: Use GET when you want to retrieve data and use POST when you want to submit data. GET is often used for simple data retrieval, like fetching a web page, while POST is used for more complex operations, such as submitting a form or uploading a file.\n"
      ],
      "metadata": {
        "id": "zOwV2GPbYAif"
      }
    },
    {
      "cell_type": "markdown",
      "source": [
        "9.How do you handle errors in Flask APIs?\n",
        "Ans: Handling errors effectively in Flask APIs is crucial for building robust and user-friendly applications. Here's a comprehensive guide to best practices for error handling in Flask APIs:\n",
        "1. Use Built-in Error Handlers\n",
        "Flask provides decorators to handle specific HTTP errors globally:\n",
        "@app.errorhandler(404)\n",
        "def page_not_found(e):\n",
        "    return jsonify(error=\"Resource not found\", code=404), 404\n",
        "\n",
        "@app.errorhandler(500)\n",
        "def internal_server_error(e):\n",
        "    return jsonify(error=\"Internal server error\", code=500), 500\n",
        "This ensures consistent error responses across your application\n",
        "\n",
        "Use Flask's abort() function to trigger HTTP errors manually:\n",
        "from flask import abort\n",
        "\n",
        "@app.route('/resource/<id>')\n",
        "def get_resource(id):\n",
        "    resource = find_resource(id)\n",
        "    if resource is None:\n",
        "        abort(404, description=\"Resource not found\")\n",
        "    return jsonify(resource)\n",
        "This approach allows for precise control over error handling.\n"
      ],
      "metadata": {
        "id": "JhMB3_3SYCW4"
      }
    },
    {
      "cell_type": "code",
      "metadata": {
        "id": "59df6353"
      },
      "source": [
        "@app.errorhandler(404)\n",
        "def page_not_found(e):\n",
        "    return jsonify(error=\"Resource not found\", code=404), 404\n",
        "\n",
        "@app.errorhandler(500)\n",
        "def internal_server_error(e):\n",
        "    return jsonify(error=\"Internal server error\", code=500), 500\n",
        "from flask import Flask, jsonify\n",
        "\n",
        "app = Flask(__name__)"
      ],
      "execution_count": null,
      "outputs": []
    },
    {
      "cell_type": "markdown",
      "source": [
        "This ensures consistent error responses across your application\n",
        "\n",
        "Use Flask's abort() function to trigger HTTP errors manually:\n",
        "\n",
        "This approach allows for precise control over error handling.\n",
        "\n"
      ],
      "metadata": {
        "id": "xH11nA66YvND"
      }
    },
    {
      "cell_type": "code",
      "source": [
        "from flask import abort\n",
        "\n",
        "@app.route('/resource/<id>')\n",
        "def get_resource(id):\n",
        "    resource = find_resource(id)\n",
        "    if resource is None:\n",
        "        abort(404, description=\"Resource not found\")\n",
        "    return jsonify(resource)"
      ],
      "metadata": {
        "id": "qRJLx7PVYy9K"
      },
      "execution_count": null,
      "outputs": []
    },
    {
      "cell_type": "markdown",
      "source": [
        "10. How do you connect Flask to a SQL database?Ans:To connect a Flask application to an SQL database, the recommended approach is to use Flask-SQLAlchemy, an extension that integrates SQLAlchemy with Flask, providing a high-level ORM and simplified database interactions.\n",
        "a\tInstall Required Packages\n",
        "b.\tConfigure the Flask Application\n",
        "c.\t Define Database Models\n",
        "d.\tInitialize the Database\n",
        "e.\tPerform CRUD Operations\n",
        "f.\tUse Environment Variables: Store sensitive information like database URIs in environment variables to enhance security.\n",
        "g.\tHandle Database Sessions Properly: Ensure that database sessions are committed and closed appropriately to prevent connection leaks.\n",
        "h.\tUse Migrations for Schema Changes: Avoid using db.create_all() in production. Instead, use migrations to manage schema changes safely\n"
      ],
      "metadata": {
        "id": "HUR4VOfwY9SF"
      }
    },
    {
      "cell_type": "markdown",
      "source": [
        "11. What is the role of Flask-SQLAlchemy?Ans: Flask-SQLAlchemy is an extension for Flask that simplifies integrating SQLAlchemy, a powerful SQL toolkit and Object-Relational Mapping (ORM) library for Python, into Flask applications. It provides a high-level abstraction for database interactions, making it easier to manage database connections, define models, and perform CRUD operations. Flask-SQLAlchemy plays a crucial role in bridging the gap between Flask applications and relational databases by providing a high-level, Pythonic interface for database interactions, thereby simplifying development and maintenance processes."
      ],
      "metadata": {
        "id": "QT-9kdvWZ88a"
      }
    },
    {
      "cell_type": "markdown",
      "source": [
        "12.What are Flask blueprints, and how are they useful?ANS:Flask Blueprints are a powerful feature in the Flask web framework that allow you to organize your application into modular components. They enable you to define routes, views, templates, and static files in separate modules, which can then be registered with the main application. This modular approach enhances the maintainability, scalability, and reusability of your Flask\n",
        "Key Benefits of Flask Blueprints\n",
        "1.\tModular Organization\n",
        "Blueprints allow you to break your application into smaller, self-contained modules. Each module can represent a specific feature or functionality, such as authentication, user profiles, or blog management. This modular structure makes your codebase more organized and easier to navigate.\n",
        "2.\tReusability\n",
        "Once defined, a Blueprint can be reused across multiple Flask applications. This promotes code reuse and reduces duplication, making it easier to maintain and extend your applications.\n",
        "3.\tSeparation of Concerns\n",
        "Blueprints help keep different parts of your application logically separated. For example, the logic for handling user authentication can be encapsulated in an auth Blueprint, while the logic for managing blog posts can be in a blog Blueprint. This separation makes it easier to manage and scale your application.\n",
        "4.\tCleaner Codebase\n",
        "As your application grows, a single monolithic file can become unwieldy. Blueprints allow you to group related views and functionality together, preventing a large, monolithic codebase and making your application easier to maintain.\n",
        "5.\tFlexible Routing\n",
        "Each Blueprint can have its own routing, which can be mounted on different paths within the main application. This allows for flexible and organized URL structures, especially useful when dealing with different versions of an API or distinct sections of your application.\n"
      ],
      "metadata": {
        "id": "yki2sAMkaSQn"
      }
    },
    {
      "cell_type": "markdown",
      "source": [
        "13.What is the purpose of Flask's request object?Ans:In Flask, the request object is a central component that provides access to all incoming HTTP request data. It acts as a proxy to the Request class, offering a convenient interface to interact with various parts of the request, such as form data, query parameters, headers, and more.The request object is essential for handling client input and making decisions based on that input. It is automatically populated by Flask during the request lifecycle and is accessible within the scope of view functions. Attempting to use it outside this context will result in a RuntimeError, as the request context is not available."
      ],
      "metadata": {
        "id": "FP0A_cCdb0rE"
      }
    },
    {
      "cell_type": "markdown",
      "source": [
        "14.How do you create a RESTful API endpoint using Flask?Ans:Creating a RESTful API endpoint using Flask involves defining resources and mapping them to HTTP methods. Here's a step-by-step guide to building a simple task management API using Flask and Flask-RESTful.Step 1: Set Up Your Flask Environment Step 2: Define the Task Resource Step 3: Register the Resources with the API Step 4: Run the Application Step 5: Test the API"
      ],
      "metadata": {
        "id": "Fo5Yvf1HcVbd"
      }
    },
    {
      "cell_type": "markdown",
      "source": [
        "15.What is the purpose of Flask's jsonify() function?Ans:Serialization: It converts Python data structures (such as dictionaries, lists, strings, numbers, booleans, and None) into a JSON-formatted string.\n",
        "\n",
        "Response Object Creation: It wraps the JSON string in a Flask Response object, which is a structured way to send data back to the client.\n",
        "\n",
        "Setting the Correct MIME Type: It automatically sets the Content-Type header of the response to application/json, informing the client that the response contains JSON data.\n",
        "\n",
        "This functionality is crucial for APIs that communicate using JSON, as it ensures proper formatting and headers without requiring manual intervention."
      ],
      "metadata": {
        "id": "2Si3SQoLc4iI"
      }
    },
    {
      "cell_type": "markdown",
      "source": [
        "16.Explain Flask’s url_for() function?Ans:Dynamic URL Generation: It constructs URLs based on the name of the view function and any required arguments.\n",
        "\n",
        "Avoids Hardcoding: Prevents the need to hardcode URLs, making your code more maintainable.\n",
        "\n",
        "Supports Variable Rules: Handles routes with variable parts, such as /user/<username>.\n",
        "\n",
        "Blueprint Support: Works seamlessly with Flask Blueprints by including the blueprint name in the URL.\n",
        "\n",
        "Static File Handling: Generates URLs for static files, like CSS or JavaScript, ensuring correct paths.\n"
      ],
      "metadata": {
        "id": "PNoOvosIdKJd"
      }
    },
    {
      "cell_type": "markdown",
      "source": [
        "17.How does Flask handle static files (CSS, JavaScript, etc.)?Ans:Flask provides a straightforward mechanism for serving static files—such as CSS, JavaScript, and images—via its built-in support for a static directory. This functionality is essential for web applications that require client-side resources.Default Static Folder\n",
        "By default, Flask expects a folder named static within your project directory. Files placed in this folder are automatically accessible through a URL prefixed with /static/. For instance, a file located at static/style.css can be accessed via http://127.0.0.1:5000/static/style.css during development."
      ],
      "metadata": {
        "id": "H7KCloZBdaV_"
      }
    },
    {
      "cell_type": "markdown",
      "source": [
        "18.What is an API specification, and how does it help in building a Flask API?Ans:An API specification are:\n",
        "Endpoints: The available paths (e.g., /users, /products/{id}).\n",
        "HTTP Methods: The actions supported (GET, POST, PUT, DELETE).\n",
        "Request Parameters: Required and optional inputs (query parameters, headers, body).\n",
        "Response Formats: Structure and content of responses, including status codes.\n",
        "Authentication: Methods like API keys or OAuth.\n",
        "Data Models: Schemas for request and response bodies.\n",
        "Common formats include OpenAPI (formerly Swagger), RAML, and API Blueprint. OpenAPI, for instance, is widely used for its machine-readable structure, enabling tools to generate documentation, client SDKs, and server stubs automatically.\n",
        "How It Helps in Building a Flask API\n",
        "Clear Documentation: Provides a comprehensive guide for developers and consumers, detailing how to interact with the API.\n",
        "Automated Tools Integration: Facilitates the use of tools like Swagger UI for interactive documentation, allowing users to explore and test the API directly.\n",
        "Code Generation: Enables the automatic generation of client libraries and server-side code, streamlining development processes.\n",
        "Consistency and Validation: Ensures uniformity across the API and allows for validation of requests and responses against defined schemas.\n",
        "Collaboration and Versioning: Aids in team collaboration and managing API versions, ensuring that changes are systematically tracked and communicated.\n"
      ],
      "metadata": {
        "id": "Yv8wdxatd1mf"
      }
    },
    {
      "cell_type": "markdown",
      "source": [
        "19.What are HTTP status codes, and why are they important in a Flask API?Ans:HTTP status codes are standardized three-digit numbers returned by a server in response to a client's request. They indicate the outcome of the request, helping clients understand whether the request was successful, if there was an error, or if further action is needed.\n",
        "Important Points:Clear Communication: Status codes provide a standardized way for the server to communicate the result of a request. For example, a 200 OK status indicates a successful request, while a 404 Not Found status indicates that the requested resource doesn't exist.\n",
        "Error Handling: Using appropriate status codes allows clients to handle errors effectively. For instance, a 400 Bad Request status code signals that the client sent invalid data, prompting the client to correct the request.\n",
        "API Documentation: Documenting the status codes used in an API helps developers understand how to interact with the API and what to expect in different scenarios.\n",
        "Automation and Testing: Automated tools and tests often rely on status codes to verify that the API behaves as expected under various conditions"
      ],
      "metadata": {
        "id": "JzD-rVH5eadI"
      }
    },
    {
      "cell_type": "markdown",
      "source": [
        "20.How do you handle POST requests in Flask?Ans:Handling POST requests in Flask is essential for processing data sent from clients, such as form submissions, JSON payloads, or file uploads. Here's a comprehensive guide to managing POST requests in Flask:\n",
        "To handle POST requests, define a route with the methods parameter set to ['POST']:\n",
        "from flask import Flask, request\n",
        "\n",
        "app = Flask(__name__)\n",
        "\n",
        "@app.route('/submit', methods=['POST'])\n",
        "def submit():\n",
        "    data = request.form\n",
        "    return f\"Received data: {data}\"\n",
        "\n",
        "if __name__ == '__main__':\n",
        "    app.run(debug=True)\n",
        "In this example, when a POST request is made to the /submit endpoint, the server processes the form data and returns a response"
      ],
      "metadata": {
        "id": "w6yBL3kKe2i2"
      }
    },
    {
      "cell_type": "markdown",
      "source": [
        "21.How would you secure a Flask API?Ans:Securing a Flask API is crucial to protect sensitive data and ensure the integrity and availability of your application. Here's a comprehensive guide to implementing robust security measures:1. Enable HTTPS 2. Implement Strong Authentication 3. Secure Password Storage 4. Input Validation and Sanitization 5. Protect Against Cross-Site Request Forgery (CSRF) 6. Implement Rate Limiting 7. Secure Session Management 8. Use API Keys 9. Regular Security Audits  10. Secure File Uploads"
      ],
      "metadata": {
        "id": "w3mFXrRYfqIO"
      }
    },
    {
      "cell_type": "markdown",
      "source": [
        "22. What is the significance of the Flask-RESTful extension?Ans:Flask-RESTful is a Flask extension that simplifies the creation of RESTful APIs by providing tools to handle common tasks such as routing, request parsing, and response formatting. It promotes a resource-oriented design, allowing developers to define API endpoints as Python classes, each representing a specific resource.\n"
      ],
      "metadata": {
        "id": "T8n43whNgz5D"
      }
    },
    {
      "cell_type": "markdown",
      "source": [
        "23.What is the role of Flask’s session object?Ans:In Flask, the session object is a special dictionary-like object that allows you to store information specific to a user across multiple requests. This is particularly useful for maintaining user authentication status, preferences, or any other data that should persist during a user's interaction with your application.\n",
        "User Authentication: Store user identifiers (e.g., session['user_id']) to keep users logged in across requests.\n",
        "User Preferences: Remember user settings, such as language or theme preferences.\n",
        "Shopping Cart Data: Maintain the contents of a user's shopping cart between page reloads"
      ],
      "metadata": {
        "id": "JviMuw_BhKyK"
      }
    },
    {
      "cell_type": "markdown",
      "source": [
        "1.How do you create a basic Flask application?"
      ],
      "metadata": {
        "id": "W8GH3f8nZwl4"
      }
    },
    {
      "cell_type": "code",
      "source": [
        "!pip install flask flask-ngrok\n",
        "from flask import Flask\n",
        "from flask_ngrok import run_with_ngrok\n",
        "\n",
        "app = Flask(__name__)\n",
        "run_with_ngrok(app)  # Start ngrok when app is run\n",
        "\n",
        "@app.route(\"/\")\n",
        "def hello():\n",
        "    return \"Hello, Flask on Jupyter!\"\n",
        "\n",
        "if __name__ == \"__main__\":\n",
        "    app.run()"
      ],
      "metadata": {
        "id": "P0RqTA6Xho4i"
      },
      "execution_count": null,
      "outputs": []
    },
    {
      "cell_type": "markdown",
      "source": [
        "2.How do you serve static files like images or CSS in Flask?Ans:1.Create static/ at your project root\n",
        "2\tReference files using url_for('static', filename='…')\n",
        "3\tOptionally customize static_folder & static_url_path\n",
        "4\tFor blueprints, specify static_folder & use blueprint endpoint\n",
        "5\tIn production, let your web server serve static content"
      ],
      "metadata": {
        "id": "CWO0MdZKvBWL"
      }
    },
    {
      "cell_type": "markdown",
      "source": [
        "3.How do you define different routes with different HTTP methods in Flask?Ans:In Flask, you define routes (URL endpoints) with the @app.route() decorator and specify which HTTP methods (verbs) each route should accept. Here’s how you do it:\n",
        "Use methods=[...] with @app.route(...) to specify allowed HTTP verbs.\n",
        "\n",
        "Inside the function, you can inspect request.method to branch logic.\n",
        "\n",
        "Or define separate route functions for different methods on the same endpoint.\n",
        "\n",
        "In Flask 2+, you can use convenient decorators like @app.get(), @app.post(), etc"
      ],
      "metadata": {
        "id": "qvurCaqe22gd"
      }
    },
    {
      "cell_type": "markdown",
      "source": [
        "4.How do you render HTML templates in Flask?Ans:\n",
        "Create templates/ folder\n",
        "a.Use render_template('file.html') in your route\n",
        "b.Pass data with keyword arguments\n",
        "c.Use Jinja syntax in HTML for logic\n",
        "d.(Optional) Use template inheritance for layout reuse"
      ],
      "metadata": {
        "id": "fJU8Ylf-3gjN"
      }
    },
    {
      "cell_type": "markdown",
      "source": [
        "5.How can you generate URLs for routes in Flask using url_for?Ans:ChatGPT said:\n",
        "Flask’s url_for() function is a powerful tool for dynamically generating URLs. Instead of hardcoding paths, you reference your view function by name or the static endpoint to build URLs. Here's how it works and why it's so useful:\n",
        " How url_for() Works\n",
        "By View Function Name\n",
        "url_for('index') returns the URL bound to your index() view (e.g., /).\n",
        "url_for('profile', username='alice') builds URLs for routes such as @app.route('/profile/<username>')\n",
        "With Query Parameters & External URLs\n",
        "Any extra arguments become query strings:\n",
        "url_for('profile', user='alice', page=2) → /profile/alice?page=2\n",
        "Use _external=True to generate full URLs: http://localhost:5000/…"
      ],
      "metadata": {
        "id": "NzLQy9a2AIoU"
      }
    },
    {
      "cell_type": "markdown",
      "source": [
        "6.How do you handle forms in Flask?Ans:Handling forms in Flask is best done using Flask-WTF, which integrates WTForms for powerful form handling, validation, and CSRF protection.\n",
        "Create form class with fields & validators\n",
        "\n",
        "Render form in template with CSRF support\n",
        "\n",
        "Validate on submit in view logic (validate_on_submit())\n",
        "\n",
        "Process valid data, or re-render with errors\n",
        "\n",
        "Save files if applicable with correct enctype"
      ],
      "metadata": {
        "id": "BWCW9IncD1Ub"
      }
    },
    {
      "cell_type": "markdown",
      "source": [
        "7.How can you validate form data in Flask?Ans:Install Flask-WTF and WTForms\n",
        "\n",
        "Define form classes with built-in and custom validators\n",
        "\n",
        "Use validate_on_submit() in your view to process only valid submissions\n",
        "\n",
        "Render forms with hidden_tag() to enable CSRF protection\n",
        "\n",
        "Display validation errors in the template next to fields\n",
        "\n",
        "Supplement with client-side validation as a convenience, but always rely on server-side checks\n",
        "\n",
        "This approach ensures your Flask forms are robust, secure, and maintainable"
      ],
      "metadata": {
        "id": "JAsCZnjdEjGg"
      }
    },
    {
      "cell_type": "markdown",
      "source": [
        "8.How do you manage sessions in Flask?Ans:Managing sessions in Flask lets you maintain user-specific data across requests, like login status or preferences. Default (Client-Side) Sessions\n",
        "Flask default session stores data in cryptographically signed cookies on the client side, ensuring tamper-proof storage—but not private: clients can view their own session contents\n",
        "Suitable for lightweight data like user IDs or preferences.\n",
        "Use like a Python dict:\n",
        "session['user_id'] = user.id\n",
        "Avoid storing sensitive data (e.g., passwords) in sessions ."
      ],
      "metadata": {
        "id": "hxM3LVfgFt8k"
      }
    },
    {
      "cell_type": "markdown",
      "source": [
        "9.How do you redirect to a different route in Flask?Ans:\n",
        "Redirect to static route->\tredirect('/hello')\n",
        "Dynamic, maintainable redirect->redirect(url_for('hello'))\n",
        "Redirect with params->redirect(url_for('user', username='silki'))\n",
        "POST-to-GET redirect pattern->return redirect(url_for('thank_you'))\n",
        "Permanent redirect->redirect(url_for('home'), code=301)"
      ],
      "metadata": {
        "id": "hhtitIWnGMgk"
      }
    },
    {
      "cell_type": "markdown",
      "source": [
        "10.How do you handle errors in Flask (e.g., 404)?\n",
        "Ans:404 Not Found->@app.errorhandler(404) → render 404.html, status 404\n",
        "500 Internal Server Error\t->\t@app.errorhandler(500) → render 500.html, status 500\n",
        "Custom API errors->Use abort(400/403/404) + JSON handlers\n",
        "Global fallback ->\t@app.errorhandler(Exception) for uncaught exceptions\n",
        "Blueprint-specific errors\t->@blueprint.errorhandler(code) scoped to blueprint routes\n",
        "By setting up error handlers, using abort() proactively, logging effectively, and tailoring responses to your audience (HTML pages or JSON), your Flask application can handle errors professionally and consistently"
      ],
      "metadata": {
        "id": "407L2ya7G_f9"
      }
    },
    {
      "cell_type": "markdown",
      "source": [
        "11.How do you structure a Flask app using Blueprints?Ans:In Flask, a Blueprint is a modular component that bundles related routes, templates, static files, and other logic. You define it once and register it on your main app—often under a URL prefix. This promotes clean, maintainable, and scalable structures.\n",
        "myapp/\n",
        "├── app.py               # Application factory and blueprint registration\n",
        "├── config.py            # Configuration settings\n",
        "├── blueprints/\n",
        "│   ├── __init__.py\n",
        "│   ├── auth/            # Auth blueprint\n",
        "│   │   ├── __init__.py  # Defines Blueprint\n",
        "│   │   ├── views.py     # route handlers\n",
        "│   │   ├── templates/\n",
        "│   │   │   └── auth/\n",
        "│   │   └── static/\n",
        "│   ├── main/            # Core application logic\n",
        "│   │   ├── __init__.py\n",
        "│   │   ├── views.py\n",
        "│   │   ├── templates/\n",
        "│   │   └── static/\n",
        "│   └── api/             # API endpoints\n",
        "│       ├── __init__.py\n",
        "│       ├── views.py\n",
        "│       └── templates/\n",
        "└── templates/           # Global templates (e.g. base.html)"
      ],
      "metadata": {
        "id": "RAxtsX6VIapH"
      }
    },
    {
      "cell_type": "markdown",
      "source": [
        "12.How do you define a custom Jinja filter in Flask?Ans:In Flask, you can define custom Jinja filters to modify data within your templates. This allows you to encapsulate common transformations or formatting logic, keeping your templates clean and readable.You can define a custom filter using the @app.template_filter() decorator or by directly adding it to the jinja_env.filters dictionary.Using the Decorator\n",
        "This method is straightforward and keeps your filter definitions close to your application setup.\n",
        "\n"
      ],
      "metadata": {
        "id": "hMeIMSbzI18x"
      }
    },
    {
      "cell_type": "code",
      "metadata": {
        "id": "84785912"
      },
      "source": [
        "from flask import render_template_string\n",
        "\n",
        "# Define a simple template string that uses the custom filter\n",
        "template = \"<p>{{ 'hello' | reverse }}</p>\"\n",
        "\n",
        "# Create an application context\n",
        "with app.app_context():\n",
        "  # Render the template string\n",
        "  rendered_template = render_template_string(template)\n",
        "\n",
        "# Display the rendered output\n",
        "print(rendered_template)"
      ],
      "execution_count": null,
      "outputs": []
    },
    {
      "cell_type": "markdown",
      "source": [
        "13.How can you redirect with query parameters in Flask?Ans:In Flask, you can redirect to a route with query parameters by using the redirect() function in combination with url_for(). Here's how you can do it:To redirect to a route and include query parameters, pass them as keyword arguments to url_for(). Flask automatically appends these parameters to the generated URL.\n"
      ],
      "metadata": {
        "id": "c9KbCo1jJ2_l"
      }
    },
    {
      "cell_type": "code",
      "source": [
        "from flask import Flask, redirect, url_for\n",
        "\n",
        "app = Flask(__name__)\n",
        "\n",
        "@app.route('/')\n",
        "def index():\n",
        "    return redirect(url_for('target_route', param1='value1', param2='value2'))\n",
        "\n",
        "@app.route('/target')\n",
        "def target_route():\n",
        "    param1 = request.args.get('param1')\n",
        "    param2 = request.args.get('param2')\n",
        "    return f'Params: {param1}, {param2}'\n",
        "\n",
        "if __name__ == '__main__':\n",
        "    app.run(debug=True)"
      ],
      "metadata": {
        "colab": {
          "base_uri": "https://localhost:8080/"
        },
        "id": "lRPaXs-lKLM2",
        "outputId": "e9f8b20e-0042-4304-ebf4-ee9463f1cbad"
      },
      "execution_count": 6,
      "outputs": [
        {
          "output_type": "stream",
          "name": "stdout",
          "text": [
            " * Serving Flask app '__main__'\n",
            " * Debug mode: on\n"
          ]
        },
        {
          "output_type": "stream",
          "name": "stderr",
          "text": [
            "INFO:werkzeug:\u001b[31m\u001b[1mWARNING: This is a development server. Do not use it in a production deployment. Use a production WSGI server instead.\u001b[0m\n",
            " * Running on http://127.0.0.1:5000\n",
            "INFO:werkzeug:\u001b[33mPress CTRL+C to quit\u001b[0m\n",
            "INFO:werkzeug: * Restarting with stat\n"
          ]
        }
      ]
    },
    {
      "cell_type": "markdown",
      "source": [
        "14. How do you return JSON responses in Flask?Ans:In Flask, returning JSON responses is a common requirement, especially when building APIs. Flask provides a built-in function called jsonify() to facilitate this.Using jsonify() for JSON Responses\n",
        "The jsonify() function converts Python dictionaries or lists into JSON responses. It automatically sets the Content-Type header to application/json and handles serialization of non-serializable objects.\n"
      ],
      "metadata": {
        "id": "J78ifTwaKZUE"
      }
    },
    {
      "cell_type": "code",
      "source": [
        "from flask import Flask, jsonify\n",
        "\n",
        "app = Flask(__name__)\n",
        "\n",
        "@app.route('/data')\n",
        "def get_data():\n",
        "    data = {'name': 'Silki', 'age': 24}\n",
        "    return jsonify(data)\n",
        "\n",
        "if __name__ == '__main__':\n",
        "    app.run(debug=True)"
      ],
      "metadata": {
        "colab": {
          "base_uri": "https://localhost:8080/"
        },
        "id": "XyAlLWJOKz2K",
        "outputId": "180335e8-0e26-4df9-d0c7-33ddd24e2312"
      },
      "execution_count": null,
      "outputs": [
        {
          "output_type": "stream",
          "name": "stdout",
          "text": [
            " * Serving Flask app '__main__'\n",
            " * Debug mode: on\n"
          ]
        },
        {
          "output_type": "stream",
          "name": "stderr",
          "text": [
            "INFO:werkzeug:\u001b[31m\u001b[1mWARNING: This is a development server. Do not use it in a production deployment. Use a production WSGI server instead.\u001b[0m\n",
            " * Running on http://127.0.0.1:5000\n",
            "INFO:werkzeug:\u001b[33mPress CTRL+C to quit\u001b[0m\n",
            "INFO:werkzeug: * Restarting with stat\n"
          ]
        }
      ]
    },
    {
      "cell_type": "markdown",
      "source": [
        "15.How do you capture URL parameters in Flask?Ans:In Flask, capturing URL parameters—whether they are part of the path or query string—is straightforward. Here's how you can handle both:\n",
        "Path Parameters: Use <parameter> in route decorators to capture values directly from the URL path.\n",
        "Query Parameters: Use request.args.get('param') to retrieve values from the query string.\n",
        "Default Values: Specify default values using the default argument in get().\n",
        "All Parameters: Use request.args.to_dict() to access all query parameters as a dictionary."
      ],
      "metadata": {
        "id": "xeTuqCmnK60q"
      }
    },
    {
      "cell_type": "code",
      "source": [
        "from flask import Flask\n",
        "\n",
        "app = Flask(__name__)\n",
        "\n",
        "@app.route('/user/<username>')\n",
        "def show_user(username):\n",
        "    return f'User: {username}'"
      ],
      "metadata": {
        "id": "nYlAwklpLY5L"
      },
      "execution_count": 1,
      "outputs": []
    },
    {
      "cell_type": "code",
      "source": [
        "@app.route('/post/<int:post_id>')\n",
        "def show_post(post_id):\n",
        "    return f'Post ID: {post_id}'"
      ],
      "metadata": {
        "id": "sWySpVrmLhMC"
      },
      "execution_count": 2,
      "outputs": []
    }
  ]
}